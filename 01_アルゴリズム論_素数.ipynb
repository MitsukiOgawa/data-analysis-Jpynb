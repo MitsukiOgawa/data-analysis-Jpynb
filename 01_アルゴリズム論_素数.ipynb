{
 "cells": [
  {
   "cell_type": "markdown",
   "metadata": {},
   "source": [
    "# 演習課題\n",
    "**問題**\n",
    "10000までの**素数**を表示するプログラムを書いてください。\n",
    "素数：1,2,3,5,7\n",
    "\n",
    "発展\n",
    "スピードアップを図ってください"
   ]
  },
  {
   "cell_type": "code",
   "execution_count": null,
   "metadata": {},
   "outputs": [],
   "source": [
    "%%timeit\n",
    "a = 1"
   ]
  },
  {
   "cell_type": "markdown",
   "metadata": {},
   "source": [
    " - アルゴリズムを文章で書く\n",
    " - コードを書く-> まず動く -> リファクタリング"
   ]
  },
  {
   "cell_type": "markdown",
   "metadata": {},
   "source": [
    "**解答**\n",
    "\n",
    "アルゴリズム\n",
    "\n",
    "例えば10の時\n",
    " - 2,3,4,5,6,7,8,9,で割り算して、あまりをチェック\n",
    " - もし一つでも余りが0になっていれば合成数\n",
    " - すべてあまりが0でなければ、素数\n",
    "\n"
   ]
  },
  {
   "cell_type": "markdown",
   "metadata": {},
   "source": [
    " - 素数を格納するnumbersという空のリストで初期化\n",
    " - iを1～10000まで繰り返す\n",
    "     - 素数判定フラグをTrueに初期化\n",
    "     - 2, ....,i/2の数値でまでで割り切れたらフラグをFalse\n",
    "     - すべての値で10より小さな値で計算して、フラグがTrueのままであれば素数\n",
    "     - 素数であればnumbers"
   ]
  },
  {
   "cell_type": "code",
   "execution_count": 6,
   "metadata": {},
   "outputs": [],
   "source": [
    "def get_prime_numbers(max_val):\n",
    "    numbers = []\n",
    "    for i in range(1,max_val+1):\n",
    "        flag = True\n",
    "\n",
    "        for j in range(2,i):\n",
    "            if i % j == 0:\n",
    "                flag = False\n",
    "        # 素数の場合\n",
    "        if flag:\n",
    "            numbers.append(i)\n",
    "    \n",
    "    return numbers"
   ]
  },
  {
   "cell_type": "code",
   "execution_count": 9,
   "metadata": {},
   "outputs": [
    {
     "data": {
      "text/plain": [
       "[1,\n",
       " 2,\n",
       " 3,\n",
       " 5,\n",
       " 7,\n",
       " 11,\n",
       " 13,\n",
       " 17,\n",
       " 19,\n",
       " 23,\n",
       " 29,\n",
       " 31,\n",
       " 37,\n",
       " 41,\n",
       " 43,\n",
       " 47,\n",
       " 53,\n",
       " 59,\n",
       " 61,\n",
       " 67,\n",
       " 71,\n",
       " 73,\n",
       " 79,\n",
       " 83,\n",
       " 89,\n",
       " 97]"
      ]
     },
     "execution_count": 9,
     "metadata": {},
     "output_type": "execute_result"
    }
   ],
   "source": [
    "numbers = get_prime_numbers(100)\n",
    "numbers"
   ]
  },
  {
   "cell_type": "code",
   "execution_count": null,
   "metadata": {},
   "outputs": [],
   "source": [
    "%%timeit\n",
    "numbers = get_prime_numbers(10)"
   ]
  },
  {
   "cell_type": "code",
   "execution_count": 13,
   "metadata": {},
   "outputs": [],
   "source": [
    "%%timeit\n",
    "numbers = get_prime_numbers(100)"
   ]
  },
  {
   "cell_type": "code",
   "execution_count": 23,
   "metadata": {},
   "outputs": [
    {
     "name": "stdout",
     "output_type": "stream",
     "text": [
      "96.4 ns ± 9.8 ns per loop (mean ± std. dev. of 7 runs, 10000000 loops each)\n"
     ]
    }
   ],
   "source": [
    "%%timeit\n",
    "numbers = get_prime_numbers(1000)"
   ]
  },
  {
   "cell_type": "code",
   "execution_count": null,
   "metadata": {},
   "outputs": [],
   "source": [
    "%%timeit\n",
    "numbers = get_prime_numbers(10000)"
   ]
  },
  {
   "cell_type": "markdown",
   "metadata": {},
   "source": [
    "**計算量(オーダー)**\n",
    "$n = 10$\n",
    " - $O(n) <- 10倍すると、計算量も10倍$\n",
    " - $O(n^2) <- 10倍すると、計算量が100倍$\n",
    " - $O(n^3) <- 10倍すると、計算量が1000倍$"
   ]
  },
  {
   "cell_type": "code",
   "execution_count": 15,
   "metadata": {},
   "outputs": [],
   "source": [
    "% matplotlib inline\n",
    "import matplotlib.pyplot as plt"
   ]
  },
  {
   "cell_type": "code",
   "execution_count": 16,
   "metadata": {},
   "outputs": [
    {
     "data": {
      "text/plain": [
       "<matplotlib.collections.PathCollection at 0x221e69f3128>"
      ]
     },
     "execution_count": 16,
     "metadata": {},
     "output_type": "execute_result"
    },
    {
     "data": {
      "image/png": "[encoded data removed]",
      "text/plain": [
       "<Figure size 432x288 with 1 Axes>"
      ]
     },
     "metadata": {
      "needs_background": "light"
     },
     "output_type": "display_data"
    }
   ],
   "source": [
    "max_val = [10,100,1000,10000]\n",
    "times = [31*1e-6, 1.06*1e-3, 91*1e-3, 8.22]\n",
    "\n",
    "plt.scatter(max_val, times)"
   ]
  },
  {
   "cell_type": "code",
   "execution_count": 17,
   "metadata": {},
   "outputs": [
    {
     "data": {
      "text/plain": [
       "[<matplotlib.lines.Line2D at 0x221e6a82400>]"
      ]
     },
     "execution_count": 17,
     "metadata": {},
     "output_type": "execute_result"
    },
    {
     "data": {
      "image/png": "[encoded data removed]",
      "text/plain": [
       "<Figure size 432x288 with 1 Axes>"
      ]
     },
     "metadata": {
      "needs_background": "light"
     },
     "output_type": "display_data"
    }
   ],
   "source": [
    "max_val = [10,100,1000,10000]\n",
    "times = [31*1e-6, 1.06*1e-3, 91*1e-3, 8.22]\n",
    "\n",
    "plt.plot(max_val, times)"
   ]
  },
  {
   "cell_type": "code",
   "execution_count": 19,
   "metadata": {},
   "outputs": [
    {
     "data": {
      "text/plain": [
       "[<matplotlib.lines.Line2D at 0x221e6b3d710>]"
      ]
     },
     "execution_count": 19,
     "metadata": {},
     "output_type": "execute_result"
    },
    {
     "data": {
      "image/png": "[encoded data removed]",
      "text/plain": [
       "<Figure size 432x288 with 1 Axes>"
      ]
     },
     "metadata": {
      "needs_background": "light"
     },
     "output_type": "display_data"
    }
   ],
   "source": [
    "# 片対数グラフ\n",
    "max_val = [1,2,3,4]\n",
    "times = [31*1e-6, 1.06*1e-3, 91*1e-3, 8.22]\n",
    "\n",
    "plt.plot(max_val, times)"
   ]
  },
  {
   "cell_type": "code",
   "execution_count": 20,
   "metadata": {},
   "outputs": [
    {
     "data": {
      "text/plain": [
       "<matplotlib.collections.PathCollection at 0x221e6b94b38>"
      ]
     },
     "execution_count": 20,
     "metadata": {},
     "output_type": "execute_result"
    },
    {
     "data": {
      "image/png": "[encoded data removed]",
      "text/plain": [
       "<Figure size 432x288 with 1 Axes>"
      ]
     },
     "metadata": {
      "needs_background": "light"
     },
     "output_type": "display_data"
    }
   ],
   "source": [
    "# 片対数グラフ\n",
    "max_val = [1,2,3,4]\n",
    "times = [31*1e-6, 1.06*1e-3, 91*1e-3, 8.22]\n",
    "\n",
    "plt.scatter(max_val, times)"
   ]
  },
  {
   "cell_type": "markdown",
   "metadata": {},
   "source": [
    "## 高速化を検討\n",
    "例えば10の時\n",
    " - 2,3,4,5,6,7,8,9,で割り算して、あまりをチェック\n",
    " - もし一つでも余りが0になっていれば合成数\n",
    " - すべてあまりが0でなければ、素数\n",
    "\n",
    "アルゴリズム\n",
    " - 素数を格納するnumbersという空のリストで初期化\n",
    " - iを1～10000まで繰り返す\n",
    "     - 素数判定フラグをTrueに初期化\n",
    "     - 2, ....,i/2の数値でまでで割り切れたらフラグをFalse + その時点で抜ける(break)\n",
    "     - すべての値で10より小さな値で計算して、フラグがTrueのままであれば素数\n",
    "     - 素数であればnumbers"
   ]
  },
  {
   "cell_type": "code",
   "execution_count": 22,
   "metadata": {},
   "outputs": [],
   "source": [
    "def get_prime_numbers(max_val):\n",
    "    numbers = []\n",
    "    for i in range(1,max_val+1):\n",
    "        flag = True\n",
    "\n",
    "        for j in range(2,i):\n",
    "            if i % j == 0:\n",
    "                flag = False\n",
    "                break\n",
    "        # 素数の場合\n",
    "        if flag:\n",
    "            numbers.append(i)\n",
    "    \n",
    "    return numbers"
   ]
  },
  {
   "cell_type": "code",
   "execution_count": 26,
   "metadata": {},
   "outputs": [],
   "source": [
    "numbers = get_prime_numbers(10000)"
   ]
  },
  {
   "cell_type": "code",
   "execution_count": 27,
   "metadata": {},
   "outputs": [
    {
     "name": "stdout",
     "output_type": "stream",
     "text": [
      "85.4 ns ± 3.4 ns per loop (mean ± std. dev. of 7 runs, 10000000 loops each)\n"
     ]
    }
   ],
   "source": [
    "%%timeit\n",
    "numbers"
   ]
  },
  {
   "cell_type": "code",
   "execution_count": 30,
   "metadata": {},
   "outputs": [
    {
     "data": {
      "text/plain": [
       "<matplotlib.legend.Legend at 0x221e6c32e10>"
      ]
     },
     "execution_count": 30,
     "metadata": {},
     "output_type": "execute_result"
    },
    {
     "data": {
      "image/png": "[encoded data removed]",
      "text/plain": [
       "<Figure size 432x288 with 1 Axes>"
      ]
     },
     "metadata": {
      "needs_background": "light"
     },
     "output_type": "display_data"
    }
   ],
   "source": [
    "# 片対数グラフ\n",
    "max_val = [1,2,3,4]\n",
    "times1 = [31*1e-6, 1.06*1e-3, 91*1e-3, 8.22]\n",
    "times2 = [4.56*1e-6, 83.2*1e-6, 4.63*1e-3, 535*1e-3]\n",
    "\n",
    "plt.scatter(max_val, times1, label=\"alorithm1\")\n",
    "plt.scatter(max_val, times2, label=\"alorithm2\")\n",
    "plt.legend()"
   ]
  },
  {
   "cell_type": "code",
   "execution_count": null,
   "metadata": {},
   "outputs": [],
   "source": []
  },
  {
   "cell_type": "markdown",
   "metadata": {},
   "source": [
    "## 高速化2を検討\n",
    "例えば49の時\n",
    " - (1を抜く)2,3,(4),5,(6),7 | 8,9,で割り算して、あまりをチェック\n",
    " - もし一つでも余りが0になっていれば合成数\n",
    " - すべてあまりが0でなければ、素数\n",
    "\n",
    "アルゴリズム\n",
    " - 素数を格納するnumbersという空のリストで初期化\n",
    " - iを1～10000まで繰り返す\n",
    "     - 素数判定フラグをTrueに初期化\n",
    "     - jをnumbers(既に持っている素数)の数値でまでで割り切れたらフラグをFalse + その時点で抜ける(break)\n",
    "     - すべての値で10より小さな値で計算して、フラグがTrueのままであれば素数\n",
    "     - 素数であればnumbers"
   ]
  },
  {
   "cell_type": "code",
   "execution_count": 33,
   "metadata": {},
   "outputs": [],
   "source": [
    "def get_prime_numbers(max_val):\n",
    "    numbers = []\n",
    "    for i in range(2,max_val+1):\n",
    "        flag = True\n",
    "\n",
    "        #for j in range(2,i):\n",
    "        for j in numbers:\n",
    "            if i % j == 0:\n",
    "                flag = False\n",
    "                break\n",
    "        # 素数の場合\n",
    "        if flag:\n",
    "            numbers.append(i)\n",
    "    numbers.insert(0,1) # 1を先頭に追加\n",
    "    return numbers"
   ]
  },
  {
   "cell_type": "code",
   "execution_count": 38,
   "metadata": {},
   "outputs": [
    {
     "name": "stdout",
     "output_type": "stream",
     "text": [
      "7.05 µs ± 1.42 µs per loop (mean ± std. dev. of 7 runs, 100000 loops each)\n"
     ]
    }
   ],
   "source": [
    "%%timeit\n",
    "numbers = get_prime_numbers(10)"
   ]
  },
  {
   "cell_type": "code",
   "execution_count": 39,
   "metadata": {},
   "outputs": [
    {
     "name": "stdout",
     "output_type": "stream",
     "text": [
      "76.5 µs ± 9.48 µs per loop (mean ± std. dev. of 7 runs, 10000 loops each)\n"
     ]
    }
   ],
   "source": [
    "%%timeit\n",
    "numbers = get_prime_numbers(100)"
   ]
  },
  {
   "cell_type": "code",
   "execution_count": 40,
   "metadata": {},
   "outputs": [
    {
     "name": "stdout",
     "output_type": "stream",
     "text": [
      "2.35 ms ± 207 µs per loop (mean ± std. dev. of 7 runs, 100 loops each)\n"
     ]
    }
   ],
   "source": [
    "%%timeit\n",
    "numbers = get_prime_numbers(1000)"
   ]
  },
  {
   "cell_type": "code",
   "execution_count": 41,
   "metadata": {},
   "outputs": [
    {
     "name": "stdout",
     "output_type": "stream",
     "text": [
      "116 ms ± 10.5 ms per loop (mean ± std. dev. of 7 runs, 10 loops each)\n"
     ]
    }
   ],
   "source": [
    "%%timeit\n",
    "numbers = get_prime_numbers(10000)"
   ]
  },
  {
   "cell_type": "code",
   "execution_count": 43,
   "metadata": {},
   "outputs": [
    {
     "data": {
      "text/plain": [
       "<matplotlib.legend.Legend at 0x221e6d0beb8>"
      ]
     },
     "execution_count": 43,
     "metadata": {},
     "output_type": "execute_result"
    },
    {
     "data": {
      "image/png": "[encoded data removed]",
      "text/plain": [
       "<Figure size 432x288 with 1 Axes>"
      ]
     },
     "metadata": {
      "needs_background": "light"
     },
     "output_type": "display_data"
    }
   ],
   "source": [
    "# 片対数グラフ\n",
    "max_val = [1,2,3,4]\n",
    "times1 = [31*1e-6, 1.06*1e-3, 91*1e-3, 8.22]\n",
    "times2 = [4.56*1e-6, 83.2*1e-6, 4.63*1e-3, 535*1e-3]\n",
    "times3 = [3.93*1e-6, 57.3*1e-6, 1.69*1e-3, 75.1*1e-3]\n",
    "\n",
    "# plt.scatter(max_val, times1, label=\"alorithm1\")\n",
    "plt.scatter(max_val, times2, label=\"alorithm2\")\n",
    "plt.scatter(max_val, times3, label=\"alorithm3\")\n",
    "plt.legend()"
   ]
  },
  {
   "cell_type": "code",
   "execution_count": null,
   "metadata": {},
   "outputs": [],
   "source": []
  }
 ],
 "metadata": {
  "kernelspec": {
   "display_name": "Python 3",
   "language": "python",
   "name": "python3"
  },
  "language_info": {
   "codemirror_mode": {
    "name": "ipython",
    "version": 3
   },
   "file_extension": ".py",
   "mimetype": "text/x-python",
   "name": "python",
   "nbconvert_exporter": "python",
   "pygments_lexer": "ipython3",
   "version": "3.7.0"
  }
 },
 "nbformat": 4,
 "nbformat_minor": 2
}
