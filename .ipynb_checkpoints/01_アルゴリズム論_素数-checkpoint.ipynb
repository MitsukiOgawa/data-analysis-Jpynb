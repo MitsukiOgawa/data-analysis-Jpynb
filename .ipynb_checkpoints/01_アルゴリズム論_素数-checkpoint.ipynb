{
 "cells": [
  {
   "cell_type": "markdown",
   "metadata": {},
   "source": [
    "# 演習課題\n",
    "**問題**\n",
    "10000までの**素数**を表示するプログラムを書いてください。\n",
    "素数：1,2,3,5,7\n",
    "\n",
    "発展\n",
    "スピードアップを図ってください"
   ]
  },
  {
   "cell_type": "code",
   "execution_count": 2,
   "metadata": {},
   "outputs": [
    {
     "name": "stdout",
     "output_type": "stream",
     "text": [
      "50.8 ns ± 7.54 ns per loop (mean ± std. dev. of 7 runs, 10000000 loops each)\n"
     ]
    }
   ],
   "source": [
    "%%timeit\n",
    "a = 1"
   ]
  },
  {
   "cell_type": "markdown",
   "metadata": {},
   "source": [
    " - アルゴリズムを文章で書く\n",
    " - コードを書く-> まず動く -> リファクタリング"
   ]
  },
  {
   "cell_type": "markdown",
   "metadata": {},
   "source": [
    "**解答**\n",
    "\n",
    "アルゴリズム\n",
    "\n",
    "例えば10の時\n",
    " - 2,3,4,5,6,7,8,9,で割り算して、あまりをチェック\n",
    " - もし一つでも余りが0になっていれば合成数\n",
    " - すべてあまりが0でなければ、素数\n",
    "\n"
   ]
  },
  {
   "cell_type": "markdown",
   "metadata": {},
   "source": [
    " - 素数を格納するnumbersという空のリストで初期化\n",
    " - iを1～10000まで繰り返す\n",
    "     - 素数判定フラグをTrueに初期化\n",
    "     - 2, ....,i/2の数値でまでで割り切れたらフラグをFalse\n",
    "     - すべての値で10より小さな値で計算して、フラグがTrueのままであれば素数\n",
    "     - 素数であればnumbers"
   ]
  },
  {
   "cell_type": "code",
   "execution_count": null,
   "metadata": {},
   "outputs": [],
   "source": [
    "numbers = []\n",
    "for i in range(1,10):\n",
    "    flag = True\n",
    "    \n",
    "    for j in range(2,i):\n",
    "        if i % j == 0:\n",
    "            flag = False\n",
    "    # 素数の場合\n",
    "    if flag:\n",
    "        numbers.append(i)"
   ]
  },
  {
   "cell_type": "code",
   "execution_count": null,
   "metadata": {},
   "outputs": [],
   "source": []
  },
  {
   "cell_type": "code",
   "execution_count": null,
   "metadata": {},
   "outputs": [],
   "source": []
  }
 ],
 "metadata": {
  "kernelspec": {
   "display_name": "Python 3",
   "language": "python",
   "name": "python3"
  },
  "language_info": {
   "codemirror_mode": {
    "name": "ipython",
    "version": 3
   },
   "file_extension": ".py",
   "mimetype": "text/x-python",
   "name": "python",
   "nbconvert_exporter": "python",
   "pygments_lexer": "ipython3",
   "version": "3.7.0"
  }
 },
 "nbformat": 4,
 "nbformat_minor": 2
}
